{
 "cells": [
  {
   "cell_type": "code",
   "execution_count": null,
   "id": "172d9600-dc54-42c6-8a3c-ff98d526fb07",
   "metadata": {},
   "outputs": [],
   "source": [
    "import numpy as np\n",
    "import skimage as sk\n",
    "import os\n",
    "import imageio.v2 as imageio\n",
    "from imageio.v2 import imread\n",
    "import pandas as pd\n",
    "#This script was created to count the total number of nuclei and lipids in the image and measure their areas/volume\n",
    "#then write out to a dataframe. Can easily be adjsuted to measure two sets of objects in a 3D image."
   ]
  },
  {
   "cell_type": "code",
   "execution_count": null,
   "id": "d672864f-5377-4547-8e7b-6f883ce9a06d",
   "metadata": {},
   "outputs": [],
   "source": [
    "nuclei_path = 'Path/To/Nuclei/Masks' #Or object set1\n",
    "nuclei_imgs = os.listdir(nuclei_path)\n",
    "lipid_path = 'Path/To/Lipid/Masks' #Or object set2\n",
    "lipid_imgs = os.listdir(lipid_path)"
   ]
  },
  {
   "cell_type": "code",
   "execution_count": null,
   "id": "06d12726-3938-4933-8357-9b587be65469",
   "metadata": {},
   "outputs": [],
   "source": [
    "for i in range(len(nuclei_imgs)):\n",
    "    img = imread(os.path.join(nuclei_path, nuclei_imgs[i]))\n",
    "    label_img = sk.measure.label(img, connectivity = img.ndim)\n",
    "    props = sk.measure.regionprops_table(label_img, properties = ['label','area'])\n",
    "    data = pd.DataFrame(props)\n",
    "    filtered_nuc = data[data['area']>20000]\n",
    "    filtered_nuc.to_csv('Path/To/Save/'+nuclei_imgs[i][:-4]+'_ObjectSet1_measurements.csv') #Change ObjectSet1 to something more relevant\n",
    "\n",
    "for i in range(len(lipid_imgs)):\n",
    "    img = imread(os.path.join(lipid_path, lipid_imgs[i]))\n",
    "    label_img = sk.measure.label(img, connectivity = img.ndim)\n",
    "    props = sk.measure.regionprops_table(label_img, properties = ['label','area'])\n",
    "    data = pd.DataFrame(props)\n",
    "    data.to_csv('Path/To/Save/'+lipid_imgs[i][:-4]+'_ObjectSet2_measurements.csv') #Change ObjectSet2 to something more relevant"
   ]
  }
 ],
 "metadata": {
  "kernelspec": {
   "display_name": "Python 3 (ipykernel)",
   "language": "python",
   "name": "python3"
  },
  "language_info": {
   "codemirror_mode": {
    "name": "ipython",
    "version": 3
   },
   "file_extension": ".py",
   "mimetype": "text/x-python",
   "name": "python",
   "nbconvert_exporter": "python",
   "pygments_lexer": "ipython3",
   "version": "3.8.18"
  }
 },
 "nbformat": 4,
 "nbformat_minor": 5
}
