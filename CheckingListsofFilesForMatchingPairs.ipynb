{
 "cells": [
  {
   "cell_type": "code",
   "execution_count": null,
   "id": "a164599f-6835-4d98-91a4-f97d5201ca64",
   "metadata": {},
   "outputs": [],
   "source": [
    "import os\n",
    "\n",
    "# Explanation:\n",
    "# Convert list2 to a set: This allows for faster lookup times when checking if a file from list1 exists in list2.\n",
    "# Iterate through list1: For each file name in list1, check if it exists in set_list2.\n",
    "# Delete unmatched files: If a file from list1 is not found in set_list2, construct its path and delete it if it exists."
   ]
  },
  {
   "cell_type": "code",
   "execution_count": 2,
   "id": "0f1f1b70-589b-4078-bd94-5fe1f36ca80d",
   "metadata": {},
   "outputs": [],
   "source": [
    "def delete_unmatched_files(list1, list2, directory):\n",
    "    # Convert list2 to a set for faster lookup\n",
    "    set_list2 = set(list2)\n",
    "    \n",
    "    for file_name in list1:\n",
    "        if file_name not in set_list2:\n",
    "            file_path = os.path.join(directory, file_name)\n",
    "            if os.path.exists(file_path):\n",
    "                os.remove(file_path)\n",
    "                print(f\"Deleted: {file_name}\")\n",
    "            else:\n",
    "                print(f\"File not found: {file_name}\")"
   ]
  },
  {
   "cell_type": "code",
   "execution_count": null,
   "id": "909fc02e-e788-4ea9-9c6c-218d640e251b",
   "metadata": {},
   "outputs": [],
   "source": [
    "# Add in directories\n",
    "list1 = os.listdir(\"./Path/To/Files/To/Keep\")\n",
    "list2 = os.listdir(\"./Path/To/Files/To/Check/\")\n",
    "directory = \"./same/as/list1/\""
   ]
  },
  {
   "cell_type": "code",
   "execution_count": null,
   "id": "ea7e21a5-cddc-460c-904d-b7ab750979cc",
   "metadata": {},
   "outputs": [],
   "source": [
    "delete_unmatched_files(list1, list2,directory)"
   ]
  }
 ],
 "metadata": {
  "kernelspec": {
   "display_name": "Python 3 (ipykernel)",
   "language": "python",
   "name": "python3"
  },
  "language_info": {
   "codemirror_mode": {
    "name": "ipython",
    "version": 3
   },
   "file_extension": ".py",
   "mimetype": "text/x-python",
   "name": "python",
   "nbconvert_exporter": "python",
   "pygments_lexer": "ipython3",
   "version": "3.10.10"
  }
 },
 "nbformat": 4,
 "nbformat_minor": 5
}
