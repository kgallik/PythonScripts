{
 "cells": [
  {
   "cell_type": "code",
   "execution_count": null,
   "id": "25902f1f-edf2-49f3-aa9a-b788c3bf16a7",
   "metadata": {},
   "outputs": [],
   "source": [
    "import numpy as np\n",
    "import napari\n",
    "from tifffile import imread\n",
    "from tifffile import imwrite\n",
    "#This script takes a set of matching images and labels, unstacks the images by Z and then splits each\n",
    "#by the Y and X axis into the specified number of slices. Then check if a label exists in the image patch's \n",
    "#corresponding label patch. If a label does not exist, then both are removed. Then write and save all kept image and mask patches.\n",
    "#Using this script to create a training set for 2D StarDist. Still in progress to tidyup and create functions."
   ]
  },
  {
   "cell_type": "code",
   "execution_count": null,
   "id": "92823bcf-ce9f-401b-bb37-3240a0b449f4",
   "metadata": {},
   "outputs": [],
   "source": [
    "#to-do: create functions from the np array splitting \n",
    "#create a loop to run through all annotated images, split them and then save all patches that contain masks"
   ]
  },
  {
   "cell_type": "code",
   "execution_count": null,
   "id": "e36ecce7-e016-4578-b3ed-a1c92d0d2bbd",
   "metadata": {},
   "outputs": [],
   "source": [
    "img = imread('E:/Path/To/Images/')\n",
    "mask = imread('E:/Path/To/Masks/')"
   ]
  },
  {
   "cell_type": "code",
   "execution_count": 4,
   "id": "57dbcfe3-7f57-4254-b9ea-17d21374bd72",
   "metadata": {},
   "outputs": [],
   "source": [
    "array = np.asarray(img)\n",
    "array = np.transpose(img, [2,1,0])"
   ]
  },
  {
   "cell_type": "code",
   "execution_count": 6,
   "id": "56f88d83-006c-4aa8-b665-e441ae8bcb8a",
   "metadata": {},
   "outputs": [],
   "source": [
    "unstacked = np.unstack(array, axis=-1)"
   ]
  },
  {
   "cell_type": "code",
   "execution_count": 39,
   "id": "d515fc3a-c7ff-4ab4-b67e-273fc0dbce2b",
   "metadata": {},
   "outputs": [],
   "source": [
    "fullsplit = []\n",
    "split = []\n",
    "for array in unstacked:\n",
    "    sarray = np.array_split(array,3,axis=0)\n",
    "    for s in sarray:\n",
    "        split.append(s)\n",
    "\n",
    "for a in split:\n",
    "    sa= np.array_split(a,6,axis=-1)\n",
    "    for b in sa:\n",
    "       fullsplit.append(b)"
   ]
  },
  {
   "cell_type": "code",
   "execution_count": 48,
   "id": "43df0d42-413d-4d0c-879a-c9b4c62dc258",
   "metadata": {},
   "outputs": [],
   "source": [
    "fullsplit_mask = []\n",
    "split_mask = []\n",
    "for array in unstacked_mask:\n",
    "    sarray = np.array_split(array,3,axis=0)\n",
    "    for s in sarray:\n",
    "        split_mask.append(s)\n",
    "\n",
    "for a in split_mask:\n",
    "    sa= np.array_split(a,6,axis=-1)\n",
    "    for b in sa:\n",
    "       fullsplit_mask.append(b)"
   ]
  },
  {
   "cell_type": "code",
   "execution_count": 73,
   "id": "7a7916c0-c80d-4db9-bfd3-3965b874558b",
   "metadata": {},
   "outputs": [],
   "source": [
    "filtered_mask = []\n",
    "filtered_img = []\n",
    "for i in range(len(fullsplit_mask)):\n",
    "    if np.max(fullsplit_mask[i]) > 0:\n",
    "        filtered_mask.append(fullsplit_mask[i])\n",
    "        filtered_img.append(fullsplit[i])\n",
    "    else:\n",
    "        continue\n",
    "    "
   ]
  },
  {
   "cell_type": "code",
   "execution_count": null,
   "id": "dcb0fc18-98ef-47bd-91cf-09d1c276db19",
   "metadata": {},
   "outputs": [],
   "source": [
    "#save all the masks and corresponding image patches that contain labels"
   ]
  },
  {
   "cell_type": "code",
   "execution_count": null,
   "id": "53cb075d-2537-4636-b030-8561af491767",
   "metadata": {},
   "outputs": [],
   "source": [
    "out_masks = 'E:/Path/To/Save/Masks/'\n",
    "out_img = 'E:/Path/To/Save/Images/'"
   ]
  },
  {
   "cell_type": "code",
   "execution_count": 95,
   "id": "97f066c4-2289-49e7-b413-64ab621a1c9e",
   "metadata": {},
   "outputs": [],
   "source": [
    "for i in range(len(filtered_mask)):\n",
    "    imwrite(out_masks+'img_'+str(i)+'.tif',filtered_mask[i])\n",
    "    imwrite(out_img+'img_'+str(i)+'.tif',filtered_img[i])"
   ]
  },
  {
   "cell_type": "code",
   "execution_count": null,
   "id": "495709db-69a3-4043-a58d-ca3cb7f7d76c",
   "metadata": {},
   "outputs": [],
   "source": []
  }
 ],
 "metadata": {
  "kernelspec": {
   "display_name": "Python 3 (ipykernel)",
   "language": "python",
   "name": "python3"
  },
  "language_info": {
   "codemirror_mode": {
    "name": "ipython",
    "version": 3
   },
   "file_extension": ".py",
   "mimetype": "text/x-python",
   "name": "python",
   "nbconvert_exporter": "python",
   "pygments_lexer": "ipython3",
   "version": "3.12.9"
  }
 },
 "nbformat": 4,
 "nbformat_minor": 5
}
