{
 "cells": [
  {
   "cell_type": "code",
   "execution_count": 79,
   "id": "25902f1f-edf2-49f3-aa9a-b788c3bf16a7",
   "metadata": {},
   "outputs": [],
   "source": [
    "import numpy as np\n",
    "import napari\n",
    "from tifffile import imread\n",
    "from tifffile import imwrite\n"
   ]
  },
  {
   "cell_type": "code",
   "execution_count": null,
   "id": "92823bcf-ce9f-401b-bb37-3240a0b449f4",
   "metadata": {},
   "outputs": [],
   "source": [
    "#to-do: create functions from the np array splitting \n",
    "#create a loop to run through all annotated images, split them and then save all patches that contain masks"
   ]
  },
  {
   "cell_type": "code",
   "execution_count": 44,
   "id": "e36ecce7-e016-4578-b3ed-a1c92d0d2bbd",
   "metadata": {},
   "outputs": [],
   "source": [
    "img = imread('E:/Lempradl_Lab/April/OIC-78_Drosophila-brain-lesion-quant/training_images/S3_Wk1_M1C_01_2023_08_25__10_31_22.tif')\n",
    "mask = imread('E:/Lempradl_Lab/April/OIC-78_Drosophila-brain-lesion-quant/training_images_stringent_labels/S3_Wk1_M1C_01_2023_08_25__10_31_22_stringent.tif')"
   ]
  },
  {
   "cell_type": "code",
   "execution_count": 3,
   "id": "e1aa81f9-f244-42db-ac15-242f57701259",
   "metadata": {},
   "outputs": [
    {
     "data": {
      "text/plain": [
       "(44, 3788, 1945)"
      ]
     },
     "execution_count": 3,
     "metadata": {},
     "output_type": "execute_result"
    }
   ],
   "source": [
    "img.shape"
   ]
  },
  {
   "cell_type": "code",
   "execution_count": 4,
   "id": "57dbcfe3-7f57-4254-b9ea-17d21374bd72",
   "metadata": {},
   "outputs": [],
   "source": [
    "array = np.asarray(img)\n",
    "array = np.transpose(img, [2,1,0])"
   ]
  },
  {
   "cell_type": "code",
   "execution_count": 5,
   "id": "c2f95b9d-7d45-4416-b50e-d681ff280676",
   "metadata": {},
   "outputs": [
    {
     "data": {
      "text/plain": [
       "(1945, 3788, 44)"
      ]
     },
     "execution_count": 5,
     "metadata": {},
     "output_type": "execute_result"
    }
   ],
   "source": [
    "array.shape"
   ]
  },
  {
   "cell_type": "code",
   "execution_count": 6,
   "id": "56f88d83-006c-4aa8-b665-e441ae8bcb8a",
   "metadata": {},
   "outputs": [],
   "source": [
    "unstacked = np.unstack(array, axis=-1)"
   ]
  },
  {
   "cell_type": "code",
   "execution_count": 8,
   "id": "c8bd0dd0-329a-485d-836c-03ff9f32bb6f",
   "metadata": {},
   "outputs": [
    {
     "data": {
      "text/plain": [
       "(1945, 3788)"
      ]
     },
     "execution_count": 8,
     "metadata": {},
     "output_type": "execute_result"
    }
   ],
   "source": [
    "unstacked[0].shape"
   ]
  },
  {
   "cell_type": "code",
   "execution_count": 39,
   "id": "d515fc3a-c7ff-4ab4-b67e-273fc0dbce2b",
   "metadata": {},
   "outputs": [],
   "source": [
    "fullsplit = []\n",
    "split = []\n",
    "for array in unstacked:\n",
    "    sarray = np.array_split(array,3,axis=0)\n",
    "    for s in sarray:\n",
    "        split.append(s)\n",
    "\n",
    "for a in split:\n",
    "    sa= np.array_split(a,6,axis=-1)\n",
    "    for b in sa:\n",
    "       fullsplit.append(b)"
   ]
  },
  {
   "cell_type": "code",
   "execution_count": 47,
   "id": "7bb993b0-5197-4d0c-b652-78d2a371c12a",
   "metadata": {},
   "outputs": [
    {
     "name": "stdout",
     "output_type": "stream",
     "text": [
      "(1945, 3788, 44)\n",
      "(1945, 3788)\n"
     ]
    }
   ],
   "source": [
    "array_mask = np.asarray(mask)\n",
    "array_mask = np.transpose(mask, [2,1,0])\n",
    "unstacked_mask = np.unstack(array_mask, axis=-1)\n",
    "print(array_mask.shape)\n",
    "print(unstacked_mask[0].shape)"
   ]
  },
  {
   "cell_type": "code",
   "execution_count": 48,
   "id": "43df0d42-413d-4d0c-879a-c9b4c62dc258",
   "metadata": {},
   "outputs": [],
   "source": [
    "fullsplit_mask = []\n",
    "split_mask = []\n",
    "for array in unstacked_mask:\n",
    "    sarray = np.array_split(array,3,axis=0)\n",
    "    for s in sarray:\n",
    "        split_mask.append(s)\n",
    "\n",
    "for a in split_mask:\n",
    "    sa= np.array_split(a,6,axis=-1)\n",
    "    for b in sa:\n",
    "       fullsplit_mask.append(b)"
   ]
  },
  {
   "cell_type": "code",
   "execution_count": 73,
   "id": "7a7916c0-c80d-4db9-bfd3-3965b874558b",
   "metadata": {},
   "outputs": [],
   "source": [
    "filtered_mask = []\n",
    "filtered_img = []\n",
    "for i in range(len(fullsplit_mask)):\n",
    "    if np.max(fullsplit_mask[i]) > 0:\n",
    "        filtered_mask.append(fullsplit_mask[i])\n",
    "        filtered_img.append(fullsplit[i])\n",
    "    else:\n",
    "        continue\n",
    "    "
   ]
  },
  {
   "cell_type": "code",
   "execution_count": null,
   "id": "91b690d8-1d9e-4cfa-9076-427c708776f8",
   "metadata": {},
   "outputs": [],
   "source": [
    "#testing that tifffile's imwrite was set up correctly"
   ]
  },
  {
   "cell_type": "code",
   "execution_count": 81,
   "id": "63e0c0df-8275-45ec-a079-79c2cd7e1049",
   "metadata": {},
   "outputs": [],
   "source": [
    "out_path = 'E:/Lempradl_Lab/April/OIC-78_Drosophila-brain-lesion-quant/SplitImageTest/'"
   ]
  },
  {
   "cell_type": "code",
   "execution_count": 82,
   "id": "24fd52bf-11c0-4c7a-bea0-8b0ea2d3b42b",
   "metadata": {},
   "outputs": [],
   "source": [
    "imwrite(out_path+'testout.tif', filtered_mask[11])"
   ]
  },
  {
   "cell_type": "code",
   "execution_count": 78,
   "id": "94213781-9015-44bd-b491-30b4816f8b1c",
   "metadata": {},
   "outputs": [
    {
     "data": {
      "text/plain": [
       "<Image layer 'testmask' at 0x215991cb170>"
      ]
     },
     "execution_count": 78,
     "metadata": {},
     "output_type": "execute_result"
    }
   ],
   "source": [
    "viewer = napari.view_image(filtered_img[11], name= 'testsplit', scale = [0.208,0.208])\n",
    "viewer.add_image(filtered_mask[11],name='testmask',scale = [0.208,0.208])"
   ]
  },
  {
   "cell_type": "code",
   "execution_count": 83,
   "id": "4e46f443-89b9-4940-ab2c-00c1d531231a",
   "metadata": {},
   "outputs": [],
   "source": [
    "img2 = imread('E:/Lempradl_Lab/April/OIC-78_Drosophila-brain-lesion-quant/SplitImageTest/testout.tif')"
   ]
  },
  {
   "cell_type": "code",
   "execution_count": 84,
   "id": "7262e4ff-1b56-4c1c-a072-7a6287ec4122",
   "metadata": {},
   "outputs": [
    {
     "data": {
      "text/plain": [
       "(648, 632)"
      ]
     },
     "execution_count": 84,
     "metadata": {},
     "output_type": "execute_result"
    }
   ],
   "source": [
    "img2.shape"
   ]
  },
  {
   "cell_type": "code",
   "execution_count": null,
   "id": "dcb0fc18-98ef-47bd-91cf-09d1c276db19",
   "metadata": {},
   "outputs": [],
   "source": [
    "#save all the masks and corresponding image patches that contain labels"
   ]
  },
  {
   "cell_type": "code",
   "execution_count": 90,
   "id": "53cb075d-2537-4636-b030-8561af491767",
   "metadata": {},
   "outputs": [],
   "source": [
    "out_masks = 'E:/Lempradl_Lab/April/OIC-78_Drosophila-brain-lesion-quant/Training_Patches_2D_SplitScript/Masks/'\n",
    "out_img = 'E:/Lempradl_Lab/April/OIC-78_Drosophila-brain-lesion-quant/Training_Patches_2D_SplitScript/Images/'"
   ]
  },
  {
   "cell_type": "code",
   "execution_count": 95,
   "id": "97f066c4-2289-49e7-b413-64ab621a1c9e",
   "metadata": {},
   "outputs": [],
   "source": [
    "for i in range(len(filtered_mask)):\n",
    "    imwrite(out_masks+'img_'+str(i)+'.tif',filtered_mask[i])\n",
    "    imwrite(out_img+'img_'+str(i)+'.tif',filtered_img[i])"
   ]
  },
  {
   "cell_type": "code",
   "execution_count": null,
   "id": "495709db-69a3-4043-a58d-ca3cb7f7d76c",
   "metadata": {},
   "outputs": [],
   "source": []
  }
 ],
 "metadata": {
  "kernelspec": {
   "display_name": "Python 3 (ipykernel)",
   "language": "python",
   "name": "python3"
  },
  "language_info": {
   "codemirror_mode": {
    "name": "ipython",
    "version": 3
   },
   "file_extension": ".py",
   "mimetype": "text/x-python",
   "name": "python",
   "nbconvert_exporter": "python",
   "pygments_lexer": "ipython3",
   "version": "3.12.9"
  }
 },
 "nbformat": 4,
 "nbformat_minor": 5
}
